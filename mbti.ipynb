{
 "cells": [
  {
   "cell_type": "code",
   "execution_count": 1,
   "metadata": {
    "collapsed": true
   },
   "outputs": [],
   "source": [
    "import pandas as pd\n",
    "import numpy as np"
   ]
  },
  {
   "cell_type": "code",
   "execution_count": 9,
   "metadata": {},
   "outputs": [
    {
     "data": {
      "text/plain": [
       "Index(['type', 'posts'], dtype='object')"
      ]
     },
     "execution_count": 9,
     "metadata": {},
     "output_type": "execute_result"
    }
   ],
   "source": [
    "mbti_data=pd.read_csv('mbti_1.csv')\n",
    "mbti_data.columns"
   ]
  },
  {
   "cell_type": "code",
   "execution_count": 16,
   "metadata": {},
   "outputs": [
    {
     "data": {
      "text/plain": [
       "INFP    1832\n",
       "INFJ    1470\n",
       "INTP    1304\n",
       "INTJ    1091\n",
       "ENTP     685\n",
       "ENFP     675\n",
       "ISTP     337\n",
       "ISFP     271\n",
       "ENTJ     231\n",
       "ISTJ     205\n",
       "ENFJ     190\n",
       "ISFJ     166\n",
       "ESTP      89\n",
       "ESFP      48\n",
       "ESFJ      42\n",
       "ESTJ      39\n",
       "Name: type, dtype: int64"
      ]
     },
     "execution_count": 16,
     "metadata": {},
     "output_type": "execute_result"
    }
   ],
   "source": [
    "mbti_data.type.value_counts(dropna=False)"
   ]
  },
  {
   "cell_type": "code",
   "execution_count": 25,
   "metadata": {},
   "outputs": [
    {
     "data": {
      "text/plain": [
       "Index(['Id', 'ForumTopicId', 'AuthorUserId', 'PostDate', 'Message',\n",
       "       'ReplyToForumMessageId', 'TopicMessagePosition', 'RawMarkdown', 'Score',\n",
       "       'FlaggedCount'],\n",
       "      dtype='object')"
      ]
     },
     "execution_count": 25,
     "metadata": {},
     "output_type": "execute_result"
    }
   ],
   "source": [
    "frm_msg=pd.read_csv('ForumMessages.csv')\n",
    "frm_msg.columns"
   ]
  },
  {
   "cell_type": "code",
   "execution_count": 21,
   "metadata": {},
   "outputs": [
    {
     "data": {
      "text/plain": [
       "0    90506\n",
       "1      154\n",
       "2       33\n",
       "3        8\n",
       "4        2\n",
       "Name: FlaggedCount, dtype: int64"
      ]
     },
     "execution_count": 21,
     "metadata": {},
     "output_type": "execute_result"
    }
   ],
   "source": [
    "frm_msg.FlaggedCount.value_counts(dropna=False)"
   ]
  },
  {
   "cell_type": "code",
   "execution_count": 23,
   "metadata": {},
   "outputs": [
    {
     "data": {
      "text/plain": [
       "0    90506\n",
       "1      154\n",
       "2       33\n",
       "3        8\n",
       "4        2\n",
       "Name: FlaggedCount, dtype: int64"
      ]
     },
     "execution_count": 23,
     "metadata": {},
     "output_type": "execute_result"
    }
   ],
   "source": [
    "frm_msg.FlaggedCount.value_counts(dropna=False)"
   ]
  },
  {
   "cell_type": "code",
   "execution_count": 22,
   "metadata": {},
   "outputs": [
    {
     "data": {
      "text/plain": [
       " 0      60658\n",
       " 1      14803\n",
       " 2       5762\n",
       " 3       2786\n",
       " 4       1532\n",
       " 5       1090\n",
       " 6        732\n",
       " 7        476\n",
       "-1        405\n",
       " 8        356\n",
       " 10       275\n",
       " 9        259\n",
       " 11       167\n",
       "-2        166\n",
       " 12       131\n",
       " 13       104\n",
       " 14        95\n",
       "-3         95\n",
       " 15        78\n",
       "-4         61\n",
       " 16        58\n",
       "-5         47\n",
       " 21        43\n",
       " 18        42\n",
       " 17        37\n",
       "-6         33\n",
       " 19        32\n",
       "-8         26\n",
       " 20        24\n",
       " 22        24\n",
       "        ...  \n",
       " 68         1\n",
       " 58         1\n",
       " 59         1\n",
       " 62         1\n",
       " 64         1\n",
       " 140        1\n",
       "-25         1\n",
       " 77         1\n",
       "-20         1\n",
       " 101        1\n",
       " 36         1\n",
       " 96         1\n",
       "-23         1\n",
       " 94         1\n",
       "-34         1\n",
       " 41         1\n",
       " 91         1\n",
       " 154        1\n",
       " 44         1\n",
       " 49         1\n",
       " 88         1\n",
       " 108        1\n",
       "-18         1\n",
       "-17         1\n",
       " 148        1\n",
       " 84         1\n",
       " 47         1\n",
       " 112        1\n",
       " 207        1\n",
       " 63         1\n",
       "Name: Score, Length: 106, dtype: int64"
      ]
     },
     "execution_count": 22,
     "metadata": {},
     "output_type": "execute_result"
    }
   ],
   "source": [
    "frm_msg.Score.value_counts(dropna=False)"
   ]
  },
  {
   "cell_type": "code",
   "execution_count": 27,
   "metadata": {},
   "outputs": [
    {
     "data": {
      "text/plain": [
       "Index(['Id', 'UserName', 'DisplayName', 'RegisterDate', 'Points', 'Ranking',\n",
       "       'Tier', 'HighestRanking'],\n",
       "      dtype='object')"
      ]
     },
     "execution_count": 27,
     "metadata": {},
     "output_type": "execute_result"
    }
   ],
   "source": [
    "usr=pd.read_csv('Users.csv')\n",
    "usr.columns"
   ]
  },
  {
   "cell_type": "code",
   "execution_count": 28,
   "metadata": {},
   "outputs": [
    {
     "data": {
      "text/plain": [
       "NaN         510132\n",
       " 27059.0     14570\n",
       " 28941.0       159\n",
       " 2532.0         37\n",
       " 157.0          22\n",
       " 388.0          22\n",
       " 161.0          22\n",
       " 327.0          19\n",
       " 2917.0         17\n",
       " 10661.0        17\n",
       " 2921.0         17\n",
       " 1292.0         16\n",
       " 690.0          16\n",
       " 333.0          15\n",
       " 896.0          15\n",
       " 232.0          15\n",
       " 172.0          15\n",
       " 1.0            14\n",
       " 1795.0         14\n",
       " 200.0          14\n",
       " 256.0          13\n",
       " 12538.0        13\n",
       " 80.0           13\n",
       " 4762.0         13\n",
       " 1592.0         13\n",
       " 538.0          13\n",
       " 3114.0         13\n",
       " 130.0          13\n",
       " 3257.0         13\n",
       " 800.0          13\n",
       "             ...  \n",
       " 17953.0         1\n",
       " 71810.0         1\n",
       " 71774.0         1\n",
       " 71775.0         1\n",
       " 71777.0         1\n",
       " 71778.0         1\n",
       " 71779.0         1\n",
       " 17945.0         1\n",
       " 71782.0         1\n",
       " 71783.0         1\n",
       " 71784.0         1\n",
       " 71785.0         1\n",
       " 71786.0         1\n",
       " 71790.0         1\n",
       " 71791.0         1\n",
       " 11504.0         1\n",
       " 71793.0         1\n",
       " 71794.0         1\n",
       " 71795.0         1\n",
       " 71796.0         1\n",
       " 71797.0         1\n",
       " 71798.0         1\n",
       " 71801.0         1\n",
       " 71802.0         1\n",
       " 83764.0         1\n",
       " 71803.0         1\n",
       " 17951.0         1\n",
       " 71806.0         1\n",
       " 71809.0         1\n",
       " 64582.0         1\n",
       "Name: HighestRanking, Length: 39859, dtype: int64"
      ]
     },
     "execution_count": 28,
     "metadata": {},
     "output_type": "execute_result"
    }
   ],
   "source": [
    "usr.HighestRanking.value_counts(dropna=False)"
   ]
  },
  {
   "cell_type": "code",
   "execution_count": 29,
   "metadata": {},
   "outputs": [
    {
     "data": {
      "text/plain": [
       "NaN         510138\n",
       " 32767.0         1\n",
       " 54670.0         1\n",
       " 13666.0         1\n",
       " 25888.0         1\n",
       " 54665.0         1\n",
       " 54666.0         1\n",
       " 54667.0         1\n",
       " 54668.0         1\n",
       " 54669.0         1\n",
       " 54671.0         1\n",
       " 69444.0         1\n",
       " 54672.0         1\n",
       " 54673.0         1\n",
       " 67700.0         1\n",
       " 54674.0         1\n",
       " 3713.0          1\n",
       " 54675.0         1\n",
       " 12022.0         1\n",
       " 54663.0         1\n",
       " 54662.0         1\n",
       " 69448.0         1\n",
       " 4573.0          1\n",
       " 54650.0         1\n",
       " 3413.0          1\n",
       " 54651.0         1\n",
       " 6307.0          1\n",
       " 54652.0         1\n",
       " 54653.0         1\n",
       " 54654.0         1\n",
       "             ...  \n",
       " 77639.0         1\n",
       " 19410.0         1\n",
       " 77641.0         1\n",
       " 77642.0         1\n",
       " 77643.0         1\n",
       " 19411.0         1\n",
       " 77645.0         1\n",
       " 77646.0         1\n",
       " 77647.0         1\n",
       " 19408.0         1\n",
       " 77631.0         1\n",
       " 77630.0         1\n",
       " 77621.0         1\n",
       " 77614.0         1\n",
       " 77615.0         1\n",
       " 4851.0          1\n",
       " 77617.0         1\n",
       " 77618.0         1\n",
       " 77619.0         1\n",
       " 19405.0         1\n",
       " 77622.0         1\n",
       " 77629.0         1\n",
       " 77623.0         1\n",
       " 19406.0         1\n",
       " 77625.0         1\n",
       " 77626.0         1\n",
       " 77627.0         1\n",
       " 19407.0         1\n",
       " 36208.0         1\n",
       " 2.0             1\n",
       "Name: Ranking, Length: 84755, dtype: int64"
      ]
     },
     "execution_count": 29,
     "metadata": {},
     "output_type": "execute_result"
    }
   ],
   "source": [
    "usr.Ranking.value_counts(dropna=False)"
   ]
  }
 ],
 "metadata": {
  "kernelspec": {
   "display_name": "Python 3",
   "language": "python",
   "name": "python3"
  },
  "language_info": {
   "codemirror_mode": {
    "name": "ipython",
    "version": 3
   },
   "file_extension": ".py",
   "mimetype": "text/x-python",
   "name": "python",
   "nbconvert_exporter": "python",
   "pygments_lexer": "ipython3",
   "version": "3.6.3"
  }
 },
 "nbformat": 4,
 "nbformat_minor": 2
}
